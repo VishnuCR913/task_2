{
 "cells": [
  {
   "cell_type": "code",
   "execution_count": 6,
   "id": "f2250cea",
   "metadata": {},
   "outputs": [],
   "source": [
    "import csv\n"
   ]
  },
  {
   "cell_type": "code",
   "execution_count": 14,
   "id": "48f528ee",
   "metadata": {},
   "outputs": [
    {
     "name": "stdout",
     "output_type": "stream",
     "text": [
      "['Id', 'First Name', 'Last Name', 'DOB', 'Working']\n",
      "['1', 'RAM', 'RAVI', '10-09-1899', 'Y']\n",
      "['9', 'sachin', 'Philip', '22-10-1999', 'N']\n",
      "['8', 'arun', 'N A', '21-08-1992', 'Y']\n",
      "['4', 'Vivek', 'p', '21/08/1990', 'N']\n",
      "['3', 'Melvin sam', 'sam', '1-1-2000', 'Y']\n",
      "['2', 'PraBhU', '', '30/12/2001', 'N']\n",
      "['7', 'Arun John', 'Jospeh', '11-6-1789', 'N']\n",
      "['6', 'John', 'George p.s', '12-09-1996', 'Y']\n"
     ]
    }
   ],
   "source": [
    "with open(\"task2.csv\") as csvfile:\n",
    "    reader = csv.reader(csvfile)\n",
    "    for row in reader:\n",
    "        print(row)\n",
    "    "
   ]
  },
  {
   "cell_type": "code",
   "execution_count": null,
   "id": "3435f01c",
   "metadata": {},
   "outputs": [],
   "source": []
  }
 ],
 "metadata": {
  "kernelspec": {
   "display_name": "Python 3",
   "language": "python",
   "name": "python3"
  },
  "language_info": {
   "codemirror_mode": {
    "name": "ipython",
    "version": 3
   },
   "file_extension": ".py",
   "mimetype": "text/x-python",
   "name": "python",
   "nbconvert_exporter": "python",
   "pygments_lexer": "ipython3",
   "version": "3.8.5"
  }
 },
 "nbformat": 4,
 "nbformat_minor": 5
}
